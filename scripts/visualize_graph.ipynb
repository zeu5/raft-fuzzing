{
 "cells": [
  {
   "cell_type": "code",
   "execution_count": 50,
   "metadata": {},
   "outputs": [],
   "source": [
    "import json\n",
    "import os"
   ]
  },
  {
   "cell_type": "code",
   "execution_count": 51,
   "metadata": {},
   "outputs": [],
   "source": [
    "def analyze(graph, name=\"\"):\n",
    "    start_states = set()\n",
    "    for n in graph[\"Nodes\"].keys():\n",
    "        node = graph[\"Nodes\"][n]\n",
    "        if \"Prev\" not in node or len(node[\"Prev\"].keys()) == 0:\n",
    "            start_states.add(n)\n",
    "            \n",
    "    nodes = graph[\"Nodes\"]\n",
    "    q = list(start_states)\n",
    "\n",
    "    while len(q) != 0:\n",
    "        cur = q.pop(0)\n",
    "        depths = set()\n",
    "        if \"Depth\" in nodes[cur]:\n",
    "            continue\n",
    "        \n",
    "        if \"Prev\" in nodes[cur]:\n",
    "            for p in nodes[cur][\"Prev\"].keys():\n",
    "                if \"Depth\" in nodes[p]:\n",
    "                    depths.add(nodes[p][\"Depth\"]+1)\n",
    "            if len(depths) != 0:\n",
    "                min_depth = min(list(depths))\n",
    "                nodes[cur][\"Depth\"] = min_depth\n",
    "        else:\n",
    "            nodes[cur][\"Depth\"] = 0\n",
    "    \n",
    "        if \"Next\" in nodes[cur]:\n",
    "            for next in nodes[cur][\"Next\"].keys():\n",
    "                q.append(next)\n",
    "\n",
    "    new_graph = {\n",
    "        \"Nodes\": nodes,\n",
    "        \"StartStates\": list(start_states),\n",
    "        \"Name\": name\n",
    "    }\n",
    "    return new_graph"
   ]
  },
  {
   "cell_type": "code",
   "execution_count": 52,
   "metadata": {},
   "outputs": [],
   "source": [
    "def read_data(graph_file_path, name=\"\"):\n",
    "    if name == \"\":\n",
    "        name = os.path.basename(graph_file_path)\n",
    "    graph = {}\n",
    "    with open(graph_file_path) as f:\n",
    "        graph = json.load(f)\n",
    "    return analyze(graph, name)"
   ]
  },
  {
   "cell_type": "code",
   "execution_count": 53,
   "metadata": {},
   "outputs": [],
   "source": [
    "def next(node_key, graph):\n",
    "    if node_key not in graph[\"Nodes\"] or \"Next\" not in graph[\"Nodes\"][node_key]:\n",
    "        return []\n",
    "    next_nodes = [graph[\"Nodes\"][n] for n in graph[\"Nodes\"][node_key][\"Next\"].keys()]\n",
    "    return [{\"Key\": n[\"Key\"], \"State\": n[\"State\"], \"Visits\": n[\"Visits\"]} for n in next_nodes]"
   ]
  },
  {
   "cell_type": "code",
   "execution_count": 54,
   "metadata": {},
   "outputs": [],
   "source": [
    "def filter_visits(min_threshold, graph):\n",
    "    return [graph[\"Nodes\"][n] for n in graph[\"Nodes\"].keys() if graph[\"Nodes\"][n][\"Visits\"]> min_threshold]\n",
    "        "
   ]
  },
  {
   "cell_type": "code",
   "execution_count": 55,
   "metadata": {},
   "outputs": [],
   "source": [
    "def max_depth(graph):\n",
    "    depth = 0\n",
    "    for n in graph[\"Nodes\"].keys():\n",
    "        if graph[\"Nodes\"][n][\"Depth\"] > depth:\n",
    "            depth = graph[\"Nodes\"][n][\"Depth\"]\n",
    "    return depth"
   ]
  },
  {
   "cell_type": "code",
   "execution_count": 56,
   "metadata": {},
   "outputs": [],
   "source": [
    "def at_depth(depth, graph):\n",
    "    filtered_nodes = [graph[\"Nodes\"][n] for n in graph[\"Nodes\"].keys() if graph[\"Nodes\"][n][\"Depth\"] == depth]\n",
    "    return [{\"Key\": n[\"Key\"], \"State\": n[\"State\"], \"Visits\": n[\"Visits\"]} for n in filtered_nodes]"
   ]
  },
  {
   "cell_type": "code",
   "execution_count": 61,
   "metadata": {},
   "outputs": [],
   "source": [
    "import matplotlib.pyplot as plt\n",
    "import numpy as np\n",
    "\n",
    "def default_filter(visits):\n",
    "    return visits\n",
    "\n",
    "def compare_visit_hists(graphs, filter=default_filter):\n",
    "    fig, ax = plt.subplots()\n",
    "    for graph in graphs:\n",
    "        visits = [graph[\"Nodes\"][node][\"Visits\"] for node in graph[\"Nodes\"]]\n",
    "        visits = filter(visits)\n",
    "        ax.hist(visits, bins=30,linewidth=0.5, edgecolor=\"white\", label=graph[\"Name\"])\n",
    "\n",
    "    ax.legend()\n",
    "    plt.show()\n",
    "\n",
    "def min_visits(min_visit):\n",
    "    return lambda visits: [v for v in visits if v >= min_visit]\n",
    "\n",
    "def max_visits(max_visit):\n",
    "    return lambda visits: [v for v in visits if v < max_visit]\n",
    "\n",
    "def between_visits(min_v, max_v):\n",
    "    return lambda visits: [v for v in visits if v >= min_v and v < max_v]\n",
    "    "
   ]
  },
  {
   "cell_type": "code",
   "execution_count": 62,
   "metadata": {},
   "outputs": [
    {
     "data": {
      "image/png": "[encoded data removed]",
      "text/plain": [
       "<Figure size 640x480 with 1 Axes>"
      ]
     },
     "metadata": {},
     "output_type": "display_data"
    }
   ],
   "source": [
    "graph_random = read_data(\"/RSE/RLDS/work/fuzzing_data/raft/round_robin_10k/visit_graph_random.json\")\n",
    "graph_swapint = read_data(\"/RSE/RLDS/work/fuzzing_data/raft/round_robin_10k/visit_graph_swapInt.json\")\n",
    "compare_visit_hists([graph_random, graph_swapint], between_visits(1000, 2000))"
   ]
  },
  {
   "cell_type": "code",
   "execution_count": null,
   "metadata": {},
   "outputs": [],
   "source": []
  }
 ],
 "metadata": {
  "kernelspec": {
   "display_name": "Python 3 (ipykernel)",
   "language": "python",
   "name": "python3"
  },
  "language_info": {
   "codemirror_mode": {
    "name": "ipython",
    "version": 3
   },
   "file_extension": ".py",
   "mimetype": "text/x-python",
   "name": "python",
   "nbconvert_exporter": "python",
   "pygments_lexer": "ipython3",
   "version": "3.9.2"
  },
  "orig_nbformat": 4
 },
 "nbformat": 4,
 "nbformat_minor": 2
}
