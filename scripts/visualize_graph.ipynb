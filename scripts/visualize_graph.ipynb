{
 "cells": [
  {
   "cell_type": "code",
   "execution_count": 1,
   "metadata": {},
   "outputs": [],
   "source": [
    "import json\n",
    "import os"
   ]
  },
  {
   "cell_type": "code",
   "execution_count": 3,
   "metadata": {},
   "outputs": [],
   "source": [
    "class TLCState:\n",
    "    def __init__(self, key, state_s) -> None:\n",
    "        self.key = key\n",
    "        self.state_s = state_s\n",
    "        self.parse()\n",
    "\n",
    "    def parse(self):\n",
    "        pass\n",
    "\n",
    "    def __repr__(self) -> str:\n",
    "        return self.state_s\n"
   ]
  },
  {
   "cell_type": "code",
   "execution_count": 58,
   "metadata": {},
   "outputs": [],
   "source": [
    "# TODO: \n",
    "# 1. Define structure for graph\n",
    "# 2. Define parser to parse string and interpret the state variables\n",
    "# 3. Define abstraction to transform graph and collapse states\n",
    "class Graph:\n",
    "    def __init__(self, nodes) -> None:\n",
    "        self.nodes = dict([(key,GraphNode(node)) for key,node in nodes.items()])\n",
    "        self.start_nodes = []\n",
    "        for n, node in self.nodes.items():\n",
    "            if not node.have_prev():\n",
    "                self.start_nodes.append(n)\n",
    "        \n",
    "        def assign_depth(cur, nodes):\n",
    "            cur.depth = min([n.depth+1 for n in [nodes[p] for p in cur.prev]]) if cur.have_prev() else 0\n",
    "        self.traverse(assign_depth)\n",
    "\n",
    "        depths = {}\n",
    "        for key, node in self.nodes.items():\n",
    "            if node.depth not in depths:\n",
    "                depths[node.depth] = []\n",
    "            depths[node.depth].append(key)\n",
    "        \n",
    "        for _, values in depths.items():\n",
    "            values.sort()\n",
    "            for (i,key) in enumerate(values):\n",
    "                self.nodes[key].sibling = i\n",
    "\n",
    "    def get_next(self, key):\n",
    "        return [str(self.nodes[k]) for k in self.nodes[key].next]\n",
    "    \n",
    "    def max_depth(self):\n",
    "        depth = 0\n",
    "        for _, node in self.nodes.items():\n",
    "            if node.depth > depth:\n",
    "                depth = node.depth\n",
    "        return depth\n",
    "\n",
    "    # BFS traversal of the graph\n",
    "    def traverse(self, visit_func):\n",
    "        q = list(self.start_nodes)\n",
    "        visited = set()\n",
    "        while len(q) > 0:\n",
    "            cur_node = self.nodes[q.pop(0)]\n",
    "            if cur_node.key in visited:\n",
    "                continue\n",
    "            visited.add(cur_node.key)\n",
    "            visit_func(cur_node, self.nodes)\n",
    "            q+=list(cur_node.next)\n",
    "            \n",
    "\n",
    "class GraphNode:\n",
    "    def __init__(self, node) -> None:\n",
    "        self.key = node[\"Key\"]\n",
    "        self.state = TLCState(node[\"Key\"], node[\"State\"])\n",
    "        self.visits = node[\"Visits\"]\n",
    "        self.next = set(node[\"Next\"].keys()) if \"Next\" in node else set()\n",
    "        self.prev = set(node[\"Prev\"].keys()) if \"Prev\" in node else set()\n",
    "        self.depth = -1\n",
    "        self.sibling = -1\n",
    "    \n",
    "    def have_prev(self):\n",
    "        return len(self.prev) != 0\n",
    "\n",
    "    def __repr__(self) -> str:\n",
    "        return str({\"Key\": self.key, \"State\": str(self.state), \"Visits\": self.visits})\n",
    "    "
   ]
  },
  {
   "cell_type": "code",
   "execution_count": 59,
   "metadata": {},
   "outputs": [],
   "source": [
    "def read_data(graph_file_path, name=\"\"):\n",
    "    if name == \"\":\n",
    "        name = os.path.basename(graph_file_path)\n",
    "    graph = {}\n",
    "    with open(graph_file_path) as f:\n",
    "        graph = json.load(f)\n",
    "    return Graph(graph[\"Nodes\"])"
   ]
  },
  {
   "cell_type": "code",
   "execution_count": 60,
   "metadata": {},
   "outputs": [],
   "source": [
    "def next(node_key, graph):\n",
    "    if node_key not in graph[\"Nodes\"] or \"Next\" not in graph[\"Nodes\"][node_key]:\n",
    "        return []\n",
    "    next_nodes = [graph[\"Nodes\"][n] for n in graph[\"Nodes\"][node_key][\"Next\"].keys()]\n",
    "    return [{\"Key\": n[\"Key\"], \"State\": n[\"State\"], \"Visits\": n[\"Visits\"]} for n in next_nodes]"
   ]
  },
  {
   "cell_type": "code",
   "execution_count": 61,
   "metadata": {},
   "outputs": [],
   "source": [
    "def filter_visits(min_threshold, graph):\n",
    "    return [graph[\"Nodes\"][n] for n in graph[\"Nodes\"].keys() if graph[\"Nodes\"][n][\"Visits\"]> min_threshold]\n",
    "        "
   ]
  },
  {
   "cell_type": "code",
   "execution_count": 62,
   "metadata": {},
   "outputs": [],
   "source": [
    "def max_depth(graph):\n",
    "    depth = 0\n",
    "    for n in graph[\"Nodes\"].keys():\n",
    "        if graph[\"Nodes\"][n][\"Depth\"] > depth:\n",
    "            depth = graph[\"Nodes\"][n][\"Depth\"]\n",
    "    return depth"
   ]
  },
  {
   "cell_type": "code",
   "execution_count": 63,
   "metadata": {},
   "outputs": [],
   "source": [
    "def at_depth(depth, graph):\n",
    "    filtered_nodes = [graph[\"Nodes\"][n] for n in graph[\"Nodes\"].keys() if graph[\"Nodes\"][n][\"Depth\"] == depth]\n",
    "    return [{\"Key\": n[\"Key\"], \"State\": n[\"State\"], \"Visits\": n[\"Visits\"]} for n in filtered_nodes]"
   ]
  },
  {
   "cell_type": "code",
   "execution_count": 64,
   "metadata": {},
   "outputs": [],
   "source": [
    "import matplotlib.pyplot as plt\n",
    "import numpy as np\n",
    "\n",
    "def default_filter(visits):\n",
    "    return visits\n",
    "\n",
    "def compare_visit_hists(graphs, filter=default_filter):\n",
    "    fig, ax = plt.subplots()\n",
    "    for graph in graphs:\n",
    "        visits = [graph[\"Nodes\"][node][\"Visits\"] for node in graph[\"Nodes\"]]\n",
    "        visits = filter(visits)\n",
    "        ax.hist(visits, bins=30,linewidth=0.5, edgecolor=\"white\", label=graph[\"Name\"])\n",
    "\n",
    "    ax.legend()\n",
    "    plt.show()\n",
    "\n",
    "def min_visits(min_visit):\n",
    "    return lambda visits: [v for v in visits if v >= min_visit]\n",
    "\n",
    "def max_visits(max_visit):\n",
    "    return lambda visits: [v for v in visits if v < max_visit]\n",
    "\n",
    "def between_visits(min_v, max_v):\n",
    "    return lambda visits: [v for v in visits if v >= min_v and v < max_v]\n",
    "    "
   ]
  },
  {
   "cell_type": "code",
   "execution_count": 66,
   "metadata": {},
   "outputs": [
    {
     "data": {
      "text/plain": [
       "36"
      ]
     },
     "execution_count": 66,
     "metadata": {},
     "output_type": "execute_result"
    }
   ],
   "source": [
    "graph_random = read_data(\"/Users/srinidhin/random_10k_75_3_3/visit_graph_random.json\")\n",
    "graph_swapint = read_data(\"/Users/srinidhin/random_10k_75_3_3/visit_graph_scaleUpInt.json\")\n",
    "\n",
    "graph_random.max_depth()"
   ]
  },
  {
   "cell_type": "code",
   "execution_count": null,
   "metadata": {},
   "outputs": [],
   "source": []
  }
 ],
 "metadata": {
  "kernelspec": {
   "display_name": "Python 3 (ipykernel)",
   "language": "python",
   "name": "python3"
  },
  "language_info": {
   "codemirror_mode": {
    "name": "ipython",
    "version": 3
   },
   "file_extension": ".py",
   "mimetype": "text/x-python",
   "name": "python",
   "nbconvert_exporter": "python",
   "pygments_lexer": "ipython3",
   "version": "3.9.16"
  },
  "orig_nbformat": 4
 },
 "nbformat": 4,
 "nbformat_minor": 2
}
